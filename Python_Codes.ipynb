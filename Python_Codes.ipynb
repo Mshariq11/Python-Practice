{
 "cells": [
  {
   "cell_type": "markdown",
   "metadata": {},
   "source": [
    "# ***Python Programming*:**\n",
    "\n",
    "> The language you're learning here:\n",
    "    \n",
    "    Python is a popular, 30-year-old general purpose programming language created by Guido van Rossum. Compared with some other languages, it's reasonably easy to learn, and it's relatively easy to read. Python is often used to teach beginners the fundamentals of programming"
   ]
  },
  {
   "cell_type": "markdown",
   "metadata": {},
   "source": [
    "### 1. *Print*\n",
    "* Display what’s inside the parentheses.\n",
    "* This will print a string (means that inside in the commas)."
   ]
  },
  {
   "cell_type": "code",
   "execution_count": 90,
   "metadata": {},
   "outputs": [
    {
     "name": "stdout",
     "output_type": "stream",
     "text": [
      "Shaw\n",
      "5\n",
      "We learn data science from codanics\n",
      "128.07999999999998\n",
      "2023 for Data Science\n",
      "39.33333333333333\n",
      "14.0\n",
      "30.0\n",
      "13\n"
     ]
    }
   ],
   "source": [
    "print(\"Shaw\")\n",
    "print(2+3)\n",
    "print(\"We learn data science from codanics\")\n",
    "print(2+38+(6*3/5)*5.3+69)\n",
    "print(\"2023 for Data Science\")\n",
    "print((2**3)/36*78+52-30)\n",
    "print(36/6*3+2**2-8)\n",
    "print(10/(3+2)*4+5**2+6-9)\n",
    "print(5-(-2)**3)"
   ]
  },
  {
   "cell_type": "markdown",
   "metadata": {},
   "source": [
    "### 2. *Variables for Strings*"
   ]
  },
  {
   "cell_type": "markdown",
   "metadata": {},
   "source": [
    "Rules to assign a variable 2023 \n",
    "1. The Variable should contain letters, numbers or underscores\n",
    "2. Do not start with numbers/Special Characters at the begining \n",
    "3. Spaces are not allowed \n",
    "4. Do not use Functional keywords used in python (break, mean, median, test etc.)\n",
    "5. Short and descriptive \n",
    "6. Case senstivity (Lowercase, Uppercase letters either lowercase letters should be used )\n",
    "7. Don't ever repeat the same variable (pehlay wala update ho jay ga)\n",
    "8. Don't use \"\" when using variables\n",
    "Pros:\n",
    "1. It reduces the human effort for coding \n",
    "2. easy to write for long datasets\n",
    "3. Easy to recall"
   ]
  },
  {
   "cell_type": "markdown",
   "metadata": {},
   "source": [
    "Strategy\n",
    "1. Only those words used that is not include in python library\n",
    "2. Python Keywords (False\tdef\tif\traise\n",
    "3. None\tdel\timport\treturn\n",
    "4. True\telif\tin\ttry\n",
    "5. and\telse\tis\twhile\n",
    "6. as\texcept\tlambda\twith\n",
    "7. assert\tfinally\tnonlocal\tyield\n",
    "8. break\tfor\tnot\t\n",
    "9. class\tfrom\tor\t\n",
    "10. continue\tglobal\tpass)"
   ]
  },
  {
   "cell_type": "code",
   "execution_count": 16,
   "metadata": {},
   "outputs": [
    {
     "name": "stdout",
     "output_type": "stream",
     "text": [
      "HELLO Shaw Rick\n"
     ]
    }
   ],
   "source": [
    "c = \"HELLO Shaw Rick\";\n",
    "print (c)"
   ]
  },
  {
   "cell_type": "code",
   "execution_count": 17,
   "metadata": {},
   "outputs": [
    {
     "name": "stdout",
     "output_type": "stream",
     "text": [
      "MY NAME IS SHARIQ\n"
     ]
    }
   ],
   "source": [
    "c =\"SHARIQ\";\n",
    "print (\"MY NAME IS \" +c);"
   ]
  },
  {
   "cell_type": "code",
   "execution_count": 18,
   "metadata": {},
   "outputs": [
    {
     "name": "stdout",
     "output_type": "stream",
     "text": [
      "SHAWRICK\n"
     ]
    }
   ],
   "source": [
    "x = \"SHAW\";\n",
    "y = \"RICK\";\n",
    "z = x + y;\n",
    "print (z); "
   ]
  },
  {
   "cell_type": "markdown",
   "metadata": {},
   "source": [
    "### 3. *Variable for Numbers*"
   ]
  },
  {
   "cell_type": "code",
   "execution_count": 4,
   "metadata": {},
   "outputs": [
    {
     "name": "stdout",
     "output_type": "stream",
     "text": [
      "15\n"
     ]
    }
   ],
   "source": [
    "a = 5;\n",
    "b = 10;\n",
    "c = a + b;\n",
    "print (c)"
   ]
  },
  {
   "cell_type": "code",
   "execution_count": 6,
   "metadata": {},
   "outputs": [
    {
     "name": "stdout",
     "output_type": "stream",
     "text": [
      "48\n"
     ]
    }
   ],
   "source": [
    "f = \"4\";\n",
    "g = \"8\";\n",
    "h = f + g;\n",
    "print (h);"
   ]
  },
  {
   "cell_type": "code",
   "execution_count": 7,
   "metadata": {},
   "outputs": [
    {
     "name": "stdout",
     "output_type": "stream",
     "text": [
      "30\n"
     ]
    }
   ],
   "source": [
    "a = 10;\n",
    "b = 20;\n",
    "c = a + b;\n",
    "print (c);"
   ]
  },
  {
   "cell_type": "code",
   "execution_count": 8,
   "metadata": {},
   "outputs": [
    {
     "name": "stdout",
     "output_type": "stream",
     "text": [
      "8\n"
     ]
    }
   ],
   "source": [
    "x = 8;\n",
    "y = x + 7;\n",
    "z = y - x + 1; \n",
    "print (z);"
   ]
  },
  {
   "cell_type": "code",
   "execution_count": 9,
   "metadata": {},
   "outputs": [
    {
     "name": "stdout",
     "output_type": "stream",
     "text": [
      "55.0\n"
     ]
    }
   ],
   "source": [
    "a = 12 - 4 / 2 + 9 * 5;\n",
    "print (a);"
   ]
  },
  {
   "cell_type": "code",
   "execution_count": 10,
   "metadata": {},
   "outputs": [
    {
     "name": "stdout",
     "output_type": "stream",
     "text": [
      "3.6363636363636367\n"
     ]
    }
   ],
   "source": [
    "a = ( (12 - 4)  / (2 + 9) * 5);\n",
    "print (a);"
   ]
  },
  {
   "cell_type": "code",
   "execution_count": 11,
   "metadata": {},
   "outputs": [
    {
     "name": "stdout",
     "output_type": "stream",
     "text": [
      "1\n"
     ]
    }
   ],
   "source": [
    "x = 10;\n",
    "y = x%3;\n",
    "print (y);"
   ]
  },
  {
   "cell_type": "code",
   "execution_count": 12,
   "metadata": {},
   "outputs": [
    {
     "name": "stdout",
     "output_type": "stream",
     "text": [
      "12\n"
     ]
    }
   ],
   "source": [
    "f = 10;\n",
    "f = 12;\n",
    "print (f);"
   ]
  },
  {
   "cell_type": "code",
   "execution_count": 13,
   "metadata": {},
   "outputs": [
    {
     "name": "stdout",
     "output_type": "stream",
     "text": [
      "7\n"
     ]
    }
   ],
   "source": [
    "g = 5 \n",
    "g = g + 2;\n",
    "print (g);"
   ]
  },
  {
   "cell_type": "code",
   "execution_count": 14,
   "metadata": {},
   "outputs": [
    {
     "name": "stdout",
     "output_type": "stream",
     "text": [
      "6\n"
     ]
    }
   ],
   "source": [
    "a = 3;\n",
    "a+=3;\n",
    "print (a);"
   ]
  },
  {
   "cell_type": "markdown",
   "metadata": {},
   "source": [
    "### 4. *Operators*"
   ]
  },
  {
   "cell_type": "code",
   "execution_count": 20,
   "metadata": {},
   "outputs": [
    {
     "name": "stdout",
     "output_type": "stream",
     "text": [
      "71\n",
      "33\n",
      "7.0\n",
      "900\n",
      "1\n",
      "3\n",
      "4096\n",
      "10.166666666666666\n"
     ]
    }
   ],
   "source": [
    "print(2+69)\n",
    "print(65-32)\n",
    "print(35/5) #you will get a float (decimal) number\n",
    "print(25*36) \n",
    "print(13%6) # remainder after division\n",
    "print(7//2) #you will get an answer (INT) \n",
    "print(4**6) #exponent \n",
    "\n",
    "#PEMDAS\n",
    "print(3**2/2+6-4/(2*6))\n"
   ]
  },
  {
   "cell_type": "markdown",
   "metadata": {},
   "source": [
    "### 5. *Concatenation Strings*"
   ]
  },
  {
   "cell_type": "code",
   "execution_count": 22,
   "metadata": {},
   "outputs": [
    {
     "name": "stdout",
     "output_type": "stream",
     "text": [
      "Hello World\n",
      "I am learning Data Science\n",
      "Learn new thing in '2023'\n",
      "\n",
      "Data Science is DS \n",
      "        demanding field\n",
      "                    you wanna master degree\n",
      "What's up?\n",
      "2+3+6*9\n"
     ]
    }
   ],
   "source": [
    "print(\"Hello World\")\n",
    "print('I am learning Data Science')\n",
    "print(\"Learn new thing in '2023'\")\n",
    "print('''\n",
    "Data Science is DS \n",
    "        demanding field\n",
    "                    you wanna master degree''')\n",
    "print(\"What's up?\")\n",
    "print(\"2+3+6*9\") "
   ]
  },
  {
   "cell_type": "code",
   "execution_count": 93,
   "metadata": {},
   "outputs": [
    {
     "name": "stdout",
     "output_type": "stream",
     "text": [
      "Shaw\n",
      "What's up?\n",
      "\n",
      "Shaw\n",
      "Rick\n",
      "\n"
     ]
    }
   ],
   "source": [
    "# steps-1: why to use single quotation?\n",
    "print('Shaw') # when we are writing in string\n",
    "print(\"What's up?\") # when writing strings and making use of other quotation marks\n",
    "\n",
    "# step-3: When to use '''triple quotation marks'''?\n",
    "print('''\n",
    "Shaw\n",
    "Rick\n",
    "''') \n",
    "# to write multiline string and also using \"\"\"\" or ''' quotation marks inside "
   ]
  },
  {
   "cell_type": "code",
   "execution_count": 94,
   "metadata": {},
   "outputs": [
    {
     "name": "stdout",
     "output_type": "stream",
     "text": [
      "Takes in a number n, returns the cube of n\n"
     ]
    }
   ],
   "source": [
    "#use _doc_ attribute\n",
    "def cube(n):\n",
    "     '''Takes in a number n, returns the cube of n'''\n",
    "     return n**3\n",
    "\n",
    "print(cube.__doc__)"
   ]
  },
  {
   "cell_type": "markdown",
   "metadata": {},
   "source": [
    "### 6. *If Else Elif Statements*"
   ]
  },
  {
   "cell_type": "code",
   "execution_count": 23,
   "metadata": {},
   "outputs": [
    {
     "name": "stdout",
     "output_type": "stream",
     "text": [
      "Allow for Ride\n"
     ]
    }
   ],
   "source": [
    "gender = \"male\";\n",
    "if gender == \"male\":\n",
    "    print (\"Allow for Ride\");"
   ]
  },
  {
   "cell_type": "code",
   "execution_count": 24,
   "metadata": {},
   "outputs": [
    {
     "name": "stdout",
     "output_type": "stream",
     "text": [
      "ROK LO\n"
     ]
    }
   ],
   "source": [
    "gender = \"female\";\n",
    "if gender == \"male\":\n",
    "    print (\"Allow for Ride\");\n",
    "else:\n",
    "    print (\"ROK LO\");"
   ]
  },
  {
   "cell_type": "code",
   "execution_count": 25,
   "metadata": {},
   "outputs": [
    {
     "name": "stdout",
     "output_type": "stream",
     "text": [
      "ROK LO\n"
     ]
    }
   ],
   "source": [
    "age = 14;\n",
    "gender = \"female\";\n",
    "if age > 18 or gender == \"male\":\n",
    "    print (\"Allow for Ride\");\n",
    "else:\n",
    "    print (\"ROK LO\");"
   ]
  },
  {
   "cell_type": "code",
   "execution_count": 26,
   "metadata": {},
   "outputs": [
    {
     "name": "stdout",
     "output_type": "stream",
     "text": [
      "Grade A+\n"
     ]
    }
   ],
   "source": [
    "percent = 82;\n",
    "if percent < 100 and percent > 80 :\n",
    "    print (\"Grade A+\")\n",
    "elif  percent < 80 and percent > 70 :\n",
    "        print (\"Grade A\"); \n",
    "else :\n",
    "    print (\"Fail\")"
   ]
  },
  {
   "cell_type": "markdown",
   "metadata": {},
   "source": [
    "# x = \"Marksheet\";\n",
    "percent = 85;\\\n",
    "if percent < 95 and percent > 80 :\\\n",
    "    print (\"Grade A+\")\\\n",
    "elif percent < 79 and percent > 70 :\\\n",
    "    print (\"Grade A\")\\\n",
    "elif percent < 69 and percent > 60 :\\\n",
    "    print (\"Grade B\")\\\n",
    "elif percent < 59 and percent > 50 :\\\n",
    "    print (\"Grade C\")\\\n",
    "else :\\\n",
    "    Print (\"Fail\")"
   ]
  },
  {
   "cell_type": "code",
   "execution_count": 27,
   "metadata": {},
   "outputs": [
    {
     "name": "stdout",
     "output_type": "stream",
     "text": [
      "Grade B\n"
     ]
    }
   ],
   "source": [
    "x = \"Marksheet\";\n",
    "percent = 65;\n",
    "if percent < 100 and percent > 90 :\n",
    "    Print (\"Grade A+\")\n",
    "elif percent < 90 and percent > 80 :\n",
    "    print (\"Grade A-\")\n",
    "elif percent < 80 and percent > 70 :\n",
    "    print (\"Grade A\")\n",
    "elif percent < 70 and percent > 60 :\n",
    "    print (\"Grade B\")\n",
    "elif percent < 60 and percent > 50 :\n",
    "    print (\"Grade C\")\n",
    "elif percent < 50 and percent > 40 :\n",
    "    print (\"Grade D\")\n",
    "else :\n",
    "    print (\"Fail\")"
   ]
  },
  {
   "cell_type": "code",
   "execution_count": 28,
   "metadata": {},
   "outputs": [
    {
     "name": "stdout",
     "output_type": "stream",
     "text": [
      "A\n"
     ]
    }
   ],
   "source": [
    "eng = 55;\n",
    "isl = 85;\n",
    "maths = 95; \n",
    "total = 300; \n",
    "percent = (eng + isl + maths )/total*100;\n",
    "if percent < 100 and percent >= 80 :\n",
    "    print (\"A+\");\n",
    "elif percent < 80 and percent >= 70 :\n",
    "    print (\"A\"); \n",
    "elif percent < 70 and percent >= 60 :\n",
    "        print (\"C\"); \n",
    "elif percent < 60 and percent >= 50 : \n",
    "        print (\"D\"); \n",
    "elif percent < 50 and percent >= 40 : \n",
    "        print (\"E\"); \n",
    "elif percent < 40 and percent >= 33 : \n",
    "        print (\"F\");\n",
    "elif percent < 0 and percent > 100 : \n",
    "        print (\" You didnot write correct percent\");\n",
    "else :\n",
    "    Print (\"Fail\"); \n"
   ]
  },
  {
   "cell_type": "code",
   "execution_count": 30,
   "metadata": {},
   "outputs": [
    {
     "name": "stdout",
     "output_type": "stream",
     "text": [
      "A+\n"
     ]
    }
   ],
   "source": [
    "eng =  int (input ( \"EnterEnglish Marks\"));\n",
    "isl =  int (input ( \"Enter Islamiat Marks\"));\n",
    "maths = int ( input ( \"Enter Maths Marks\")); \n",
    "total = 300; \n",
    "percent = (eng + isl + maths)/total*100;\n",
    "if percent < 100 and percent >= 80:\n",
    "    print (\"A+\");\n",
    "elif percent < 80 and percent >= 70: \n",
    "    print (\"A\"); \n",
    "elif percent < 70 and percent >= 60: \n",
    "    print (\"B\"); \n",
    "elif percent < 60 and percent >= 50: \n",
    "    print (\"C\"); \n",
    "elif percent < 50 and percent >= 40: \n",
    "    print (\"D\"); \n",
    "elif percent < 40 and percent >= 33: \n",
    "    print (\"E\");\n",
    "elif percent < 0 and percent > 100: \n",
    "    print (\" You didnot write correct percent\");\n",
    "else :\n",
    "    print (\"Fail\"); "
   ]
  },
  {
   "cell_type": "code",
   "execution_count": 32,
   "metadata": {},
   "outputs": [
    {
     "name": "stdout",
     "output_type": "stream",
     "text": [
      "Hammad can join the school\n"
     ]
    }
   ],
   "source": [
    "required_age_at_school = 4\n",
    "hammad_age = 4\n",
    "\n",
    "# question: can hammad go to school\n",
    "\n",
    "if hammad_age == required_age_at_school:\n",
    "    print(\"Hammad can join the school\")\n",
    "else:\n",
    "    print(\"Hammad can not go to school\")"
   ]
  },
  {
   "cell_type": "code",
   "execution_count": 33,
   "metadata": {},
   "outputs": [
    {
     "name": "stdout",
     "output_type": "stream",
     "text": [
      "You should take care of hammad, he is still baby\n"
     ]
    }
   ],
   "source": [
    "required_age_at_school = 2\n",
    "hammad_age = 1\n",
    "\n",
    "# question: can hammad go to school\n",
    "\n",
    "if hammad_age == required_age_at_school:\n",
    "    print(\"Congratualtion! Hammad can join the school.\")\n",
    "elif hammad_age > required_age_at_school:\n",
    "    print(\"Hammad should join higher secondary school\")\n",
    "elif hammad_age <= 2:\n",
    "    print(\"You should take care of hammad, he is still baby\")\n",
    "else:\n",
    "    print(\"Hammad can not go to school\")"
   ]
  },
  {
   "cell_type": "markdown",
   "metadata": {},
   "source": [
    "### 7. *Comparison Operator*"
   ]
  },
  {
   "cell_type": "code",
   "execution_count": 34,
   "metadata": {},
   "outputs": [
    {
     "name": "stdout",
     "output_type": "stream",
     "text": [
      "True\n",
      "False\n",
      "True\n",
      "True\n",
      "True\n",
      "True\n"
     ]
    }
   ],
   "source": [
    "# logical operator are either \"true or false\" \"yes/no\" \"0/1\"\n",
    "     # equal to                      ==\n",
    "     # not equal to                  !=    \n",
    "     # less than                     <\n",
    "     # greater than                  >\n",
    "     # less than and equal to        <=    \n",
    "     # greater than and equal to     >=\n",
    "     # and, or, True and False, not\n",
    "     # #is 4 equal to 4?\n",
    "\n",
    "print(4==4)\n",
    "print(4!=4)\n",
    "print(4>3)\n",
    "print(3<6)\n",
    "print(4<=6)\n",
    "print(8>=5)\n"
   ]
  },
  {
   "cell_type": "code",
   "execution_count": 36,
   "metadata": {},
   "outputs": [
    {
     "name": "stdout",
     "output_type": "stream",
     "text": [
      "False\n",
      "<class 'int'>\n",
      "False\n"
     ]
    }
   ],
   "source": [
    "#application of logical operator\n",
    "Ali_age=4\n",
    "age_at_school=5\n",
    "print(Ali_age==age_at_school)\n",
    "\n",
    "#input operator and logic \n",
    "age_at_school=5\n",
    "Ali_age_=input(\"How old is ali?\")  #input function\n",
    "Ali_age=int(Ali_age)\n",
    "print(type(Ali_age))\n",
    "print(Ali_age==age_at_school) # logical operator"
   ]
  },
  {
   "cell_type": "markdown",
   "metadata": {},
   "source": [
    "### 8. *Comments*\n",
    "    A comment is a piece of text that has no effect on the program's execution but can be used to explain code or provide context for other"
   ]
  },
  {
   "cell_type": "code",
   "execution_count": 35,
   "metadata": {},
   "outputs": [],
   "source": [
    "# Subject of this python script:"
   ]
  },
  {
   "cell_type": "markdown",
   "metadata": {},
   "source": [
    "### 9. *Lists*\n",
    "A list is a collection of items in Python, and it can contain different types of data such as integers, strings, or even other lists."
   ]
  },
  {
   "cell_type": "code",
   "execution_count": 37,
   "metadata": {},
   "outputs": [
    {
     "name": "stdout",
     "output_type": "stream",
     "text": [
      "['Apple', 'Mango', 'Banana', 'Pine apple']\n"
     ]
    }
   ],
   "source": [
    "food = ['Apple', 'Mango', 'Banana', 'Pine apple']\n",
    "print(food)"
   ]
  },
  {
   "cell_type": "code",
   "execution_count": 38,
   "metadata": {},
   "outputs": [
    {
     "name": "stdout",
     "output_type": "stream",
     "text": [
      "Pine apple\n",
      "['Apple', 'Water Melon', 'Banana', 'Pine apple']\n"
     ]
    }
   ],
   "source": [
    "print(food[-1])\n",
    "# Update the List\n",
    "food[1] = \"Water Melon\"\n",
    "print(food)"
   ]
  },
  {
   "cell_type": "markdown",
   "metadata": {},
   "source": [
    "#### i. *Append in List*"
   ]
  },
  {
   "cell_type": "code",
   "execution_count": 39,
   "metadata": {},
   "outputs": [
    {
     "name": "stdout",
     "output_type": "stream",
     "text": [
      "['Apple', 'Water Melon', 'Banana', 'Pine apple', 'Strawberry']\n"
     ]
    }
   ],
   "source": [
    "# Add an item in list using append() method.\n",
    "food.append('Strawberry')   # add a new element at last index position\n",
    "print(food)"
   ]
  },
  {
   "cell_type": "code",
   "execution_count": 41,
   "metadata": {},
   "outputs": [
    {
     "name": "stdout",
     "output_type": "stream",
     "text": [
      "['Apple', 'Water Melon', 'Banana', 'Pine apple', 'Strawberry', 'Strawberry']\n"
     ]
    }
   ],
   "source": [
    "food.insert(4 ,'Strawberry')   # add a new element at last index position\n",
    "print(food)"
   ]
  },
  {
   "cell_type": "markdown",
   "metadata": {},
   "source": [
    "### ii. *Slicing in List*\n",
    "> Slicing is a powerful feature in Python that allows you to extract parts of an array or list, and it can be used with strings"
   ]
  },
  {
   "cell_type": "code",
   "execution_count": 44,
   "metadata": {},
   "outputs": [],
   "source": [
    "cities = [\"Atlanta\", \"Baltimore\", \"Chicago\", \"Denver\", \"Los Angeles\", \"Seattle\"]\n",
    "list_of_cities = cities[2:5]"
   ]
  },
  {
   "cell_type": "markdown",
   "metadata": {},
   "source": [
    "### iii. *Deleting & Removing in List*"
   ]
  },
  {
   "cell_type": "code",
   "execution_count": 54,
   "metadata": {},
   "outputs": [],
   "source": [
    "tasks = [\"email Frank\", \"call Sarah\", \"meet with Zach\"]\n",
    "del tasks [0]\n"
   ]
  },
  {
   "cell_type": "code",
   "execution_count": 55,
   "metadata": {},
   "outputs": [],
   "source": [
    "tasks.remove(\"call Sarah\")"
   ]
  },
  {
   "cell_type": "code",
   "execution_count": 124,
   "metadata": {},
   "outputs": [
    {
     "name": "stdout",
     "output_type": "stream",
     "text": [
      "['lion', 11, True, 5.65]\n"
     ]
    }
   ],
   "source": [
    "arr = [\"lion\", 11, True,5.65];\n",
    "print (arr);"
   ]
  },
  {
   "cell_type": "code",
   "execution_count": 125,
   "metadata": {},
   "outputs": [
    {
     "name": "stdout",
     "output_type": "stream",
     "text": [
      "['meet with Zach', 'lion', 11, True, 5.65]\n"
     ]
    }
   ],
   "source": [
    "newList = tasks + arr;\n",
    "print (newList);"
   ]
  },
  {
   "cell_type": "code",
   "execution_count": 126,
   "metadata": {},
   "outputs": [
    {
     "name": "stdout",
     "output_type": "stream",
     "text": [
      "None\n"
     ]
    }
   ],
   "source": [
    "tasks = tasks.insert(3,\"RAshid\")\n",
    "print(tasks)"
   ]
  },
  {
   "cell_type": "code",
   "execution_count": 127,
   "metadata": {},
   "outputs": [
    {
     "name": "stdout",
     "output_type": "stream",
     "text": [
      "[True, 5.65]\n"
     ]
    }
   ],
   "source": [
    "arr2 = arr[2:4];\n",
    "print(arr2);"
   ]
  },
  {
   "cell_type": "code",
   "execution_count": 128,
   "metadata": {},
   "outputs": [
    {
     "name": "stdout",
     "output_type": "stream",
     "text": [
      "['lion', 11, True]\n"
     ]
    }
   ],
   "source": [
    "arr.pop()\n",
    "print(arr);"
   ]
  },
  {
   "cell_type": "markdown",
   "metadata": {},
   "source": [
    "### 9.iv. *Popping Elements in List*\n",
    "Implement a function `pop_elements(lst, n)` that removes the first `n` elements from list `lst`. "
   ]
  },
  {
   "cell_type": "markdown",
   "metadata": {},
   "source": [
    "### 10. *Tuples*\n",
    "`A tuple is a collection of objects which are ordered and immutable (cannot be changed). Tuple can contain different types of data like integer.`"
   ]
  },
  {
   "cell_type": "code",
   "execution_count": 58,
   "metadata": {},
   "outputs": [
    {
     "name": "stdout",
     "output_type": "stream",
     "text": [
      "(4.21, 9.29)\n"
     ]
    }
   ],
   "source": [
    "coordinates = (4.21, 9.29)\n",
    "print(coordinates)"
   ]
  },
  {
   "cell_type": "markdown",
   "metadata": {},
   "source": [
    "### 11. *Loops*\n",
    "1. For loops & Nested loops\n",
    "2. While loops & Nested loops"
   ]
  },
  {
   "cell_type": "code",
   "execution_count": 59,
   "metadata": {},
   "outputs": [
    {
     "name": "stdout",
     "output_type": "stream",
     "text": [
      "1\n",
      "2\n",
      "3\n",
      "4\n",
      "5\n",
      "2\n",
      "4\n",
      "6\n",
      "8\n",
      "10\n",
      "12\n",
      "14\n",
      "16\n",
      "18\n",
      "20\n"
     ]
    }
   ],
   "source": [
    "# while loops \n",
    "x=1\n",
    "while (x<6):\n",
    "    print(x)\n",
    "    x=x+1\n",
    "\n",
    "# for loop\n",
    "n = 2\n",
    "for i in range(1,11):\n",
    "     table = n*i\n",
    "     print(table)"
   ]
  },
  {
   "cell_type": "code",
   "execution_count": 60,
   "metadata": {},
   "outputs": [
    {
     "name": "stdout",
     "output_type": "stream",
     "text": [
      "75\n",
      "150\n",
      "145\n"
     ]
    }
   ],
   "source": [
    "numbers = [12, 75, 150, 180, 145, 525, 50]\n",
    "for item in numbers:\n",
    "     if item > 500:\n",
    "         break\n",
    "     elif item > 150:\n",
    "         continue\n",
    "# check if number is divisible by 5\n",
    "     elif item % 5 == 0:\n",
    "         print(item)\n"
   ]
  },
  {
   "cell_type": "code",
   "execution_count": 65,
   "metadata": {},
   "outputs": [
    {
     "name": "stdout",
     "output_type": "stream",
     "text": [
      "Total digits are: 5\n"
     ]
    }
   ],
   "source": [
    "num = 75869\n",
    "count = 0\n",
    "while num != 0:\n",
    "     # floor division\n",
    "     # to reduce the last digit from number\n",
    "     num = num // 10\n",
    "\n",
    "# increment counter by 1\n",
    "     count = count + 1\n",
    "print(\"Total digits are:\", count)"
   ]
  },
  {
   "cell_type": "code",
   "execution_count": 66,
   "metadata": {},
   "outputs": [
    {
     "name": "stdout",
     "output_type": "stream",
     "text": [
      "red book\n",
      "red pen\n",
      "white book\n",
      "white pen\n",
      "blue book\n",
      "blue pen\n"
     ]
    }
   ],
   "source": [
    "# Nested For and While Loops (Loops is a loop within an another)\n",
    "colors = ['red', 'white', 'blue']\n",
    "items = ['book', 'pen']\n",
    "\n",
    "for color in colors :\n",
    "     for item in items :\n",
    "         print(color , item ) "
   ]
  },
  {
   "cell_type": "code",
   "execution_count": 70,
   "metadata": {},
   "outputs": [
    {
     "name": "stdout",
     "output_type": "stream",
     "text": [
      "0 0\n",
      "1 1\n",
      "2 2\n"
     ]
    }
   ],
   "source": [
    "# Nested While loop\n",
    "i=0\n",
    "while i < 3:\n",
    "      j =0\n",
    "      while j <3:\n",
    "         print(i,j)\n",
    "         j +=1\n",
    "         i += 1"
   ]
  },
  {
   "cell_type": "code",
   "execution_count": 71,
   "metadata": {},
   "outputs": [
    {
     "name": "stdout",
     "output_type": "stream",
     "text": [
      "1 0\n",
      "2 1\n",
      "3 2\n"
     ]
    }
   ],
   "source": [
    "# For loop inside while loop\n",
    "i = 1\n",
    "while i < 4:\n",
    "    for j in range(3):\n",
    "        print(i,j)\n",
    "        i += 1"
   ]
  },
  {
   "cell_type": "code",
   "execution_count": 100,
   "metadata": {},
   "outputs": [
    {
     "name": "stdout",
     "output_type": "stream",
     "text": [
      "2\n",
      "4\n",
      "6\n",
      "8\n",
      "10\n",
      "12\n",
      "14\n",
      "16\n",
      "18\n",
      "20\n",
      "75\n",
      "150\n",
      "145\n"
     ]
    }
   ],
   "source": [
    "#for loop\n",
    "n = 2\n",
    "for i in range(1,11):\n",
    "     table = n*i\n",
    "     print(table)\n",
    "\n",
    "numbers = [12, 75, 150, 180, 145, 525, 50]\n",
    "for item in numbers:\n",
    "     if item > 500:\n",
    "         break\n",
    "     elif item > 150:\n",
    "         continue\n",
    "# check if number is divisible by 5\n",
    "     elif item % 5 == 0:\n",
    "         print(item)"
   ]
  },
  {
   "cell_type": "code",
   "execution_count": 104,
   "metadata": {},
   "outputs": [
    {
     "name": "stdout",
     "output_type": "stream",
     "text": [
      "Mon\n",
      "Tue\n",
      "Wed\n",
      "Thrus\n"
     ]
    }
   ],
   "source": [
    "# while loop inside for loop:\n",
    "\n",
    "days = [\"Mon\", \"Tue\", \"Wed\", \"Thrus\", \"Fri\", \"Sat\", \"Sun\"]\n",
    "\n",
    "for d in days:\n",
    "    if (d==\"Fri\"):break  #loop stops\n",
    "    if (d==\"Fri\"):continue #skips d\n",
    "    if (d=='Fri'): pass # Pass means print all the things\n",
    "    print(d)"
   ]
  },
  {
   "cell_type": "code",
   "execution_count": 117,
   "metadata": {},
   "outputs": [
    {
     "data": {
      "text/plain": [
       "[[1, 5], [1, 5], [2, 6], [2, 6], [3, 7], [3, 7], [4, 8], [4, 8]]"
      ]
     },
     "execution_count": 117,
     "metadata": {},
     "output_type": "execute_result"
    }
   ],
   "source": [
    "# Transpose \n",
    "# [1,2,3,4]\n",
    "# [5,6,7,8,]\n",
    "# [1,5]\n",
    "# [2,6]\n",
    "# [3,7]\n",
    "# [4,8]\n",
    "\n",
    "matrix = [[1,2,3,4],[5,6,7,8]]\n",
    "transpose = []\n",
    "for i in range(len(matrix[0])):\n",
    "    row = []\n",
    "    for j in matrix:\n",
    "        row.append(j[i])\n",
    "        transpose.append(row)\n",
    "transpose"
   ]
  },
  {
   "cell_type": "code",
   "execution_count": 118,
   "metadata": {},
   "outputs": [
    {
     "data": {
      "text/plain": [
       "[[1, 5], [2, 6], [3, 7], [4, 8]]"
      ]
     },
     "execution_count": 118,
     "metadata": {},
     "output_type": "execute_result"
    }
   ],
   "source": [
    "transpose = [[row[i] for row in matrix] for i in range (len(matrix[0]))]\n",
    "transpose"
   ]
  },
  {
   "cell_type": "markdown",
   "metadata": {},
   "source": [
    "### 12. *Input Function* "
   ]
  },
  {
   "cell_type": "code",
   "execution_count": 72,
   "metadata": {},
   "outputs": [
    {
     "name": "stdout",
     "output_type": "stream",
     "text": [
      "Shaw\n",
      "Hello shaw How are you?\n"
     ]
    }
   ],
   "source": [
    "name = \"Shaw\"\n",
    "print(name)\n",
    "\n",
    "name = input(\"What is your name?\")\n",
    "print(\"Hello\", name, \"How are you?\")"
   ]
  },
  {
   "cell_type": "code",
   "execution_count": 76,
   "metadata": {},
   "outputs": [
    {
     "name": "stdout",
     "output_type": "stream",
     "text": [
      "Hello! shaw Your are still young\n"
     ]
    }
   ],
   "source": [
    "name= input(\"what is your name?\")\n",
    "age= input(\"How old are you?\")\n",
    "greeting= \"Hello!\"\n",
    "\n",
    "print(greeting, name, \"Your are still young\")"
   ]
  },
  {
   "cell_type": "code",
   "execution_count": 99,
   "metadata": {},
   "outputs": [
    {
     "name": "stdout",
     "output_type": "stream",
     "text": [
      "OverWeight\n"
     ]
    }
   ],
   "source": [
    "# BMI Calculator\n",
    "\n",
    "name = input(\"Enter your name:\")\n",
    "height = float(input(\"Enter your height:\"))\n",
    "weight = int(input(\"Enter your weight:\"))\n",
    "\n",
    "# question: Hammad is uderweight, Normal range, overweight, and obese\n",
    "if (height <5.3 or weight<=30):\n",
    "     print('Under Weight')\n",
    "elif ((weight>=40) & (height<=5.7)):\n",
    "     print ('Normal Range')\n",
    "elif((height>5.3) & (weight<=70)):\n",
    "     print (\"OverWeight\")\n",
    "else :\n",
    "     print (\"Obese\")"
   ]
  },
  {
   "cell_type": "markdown",
   "metadata": {},
   "source": [
    "### 13. *Dictionaries*"
   ]
  },
  {
   "cell_type": "code",
   "execution_count": 77,
   "metadata": {},
   "outputs": [
    {
     "name": "stdout",
     "output_type": "stream",
     "text": [
      "ali\n",
      "{'name': 'title', 'age': 4}\n"
     ]
    }
   ],
   "source": [
    "person={'name':'ali','age':4}\n",
    "print(person['name'])\n",
    "\n",
    "person['name'] = 'title'\n",
    "print(person)"
   ]
  },
  {
   "cell_type": "code",
   "execution_count": 119,
   "metadata": {},
   "outputs": [
    {
     "data": {
      "text/plain": [
       "'potato'"
      ]
     },
     "execution_count": 119,
     "metadata": {},
     "output_type": "execute_result"
    }
   ],
   "source": [
    "a = {\n",
    "'a':[\"apple\",\"bananas\",\"orange\"],\n",
    "'b':[\"onion\",\"potato\",\"carrot\"],\n",
    "'c':\"car\",\n",
    "'d':\"bike\"\n",
    "}\n",
    "a['b'][1]"
   ]
  },
  {
   "cell_type": "code",
   "execution_count": 120,
   "metadata": {},
   "outputs": [
    {
     "name": "stdout",
     "output_type": "stream",
     "text": [
      "None\n"
     ]
    }
   ],
   "source": [
    "a = {\n",
    "'a':[\"apple\",\"bananas\",\"orange\"],\n",
    "'b':[\"onion\",\"potato\",\"carrot\"],\n",
    "'c':\"car\",\n",
    "'d':\"bike\"\n",
    "}\n",
    "\n",
    "print(a.get('f'))"
   ]
  },
  {
   "cell_type": "code",
   "execution_count": 121,
   "metadata": {},
   "outputs": [
    {
     "data": {
      "text/plain": [
       "'Not found'"
      ]
     },
     "execution_count": 121,
     "metadata": {},
     "output_type": "execute_result"
    }
   ],
   "source": [
    "a = {\n",
    "'a':[\"apple\",\"bananas\",\"orange\"],\n",
    "'b':[\"onion\",\"potato\",\"carrot\"],\n",
    "'c':\"car\",\n",
    "'d':\"bike\"\n",
    "}\n",
    "\n",
    "a.get('f', \"Not found\")"
   ]
  },
  {
   "cell_type": "code",
   "execution_count": 122,
   "metadata": {},
   "outputs": [
    {
     "data": {
      "text/plain": [
       "{1: 'a', 2: 'b', 3: 'c', 4: 'd', 5: 'e'}"
      ]
     },
     "execution_count": 122,
     "metadata": {},
     "output_type": "execute_result"
    }
   ],
   "source": [
    "list1 = [1,2,3,4,5,6,7] #keys \n",
    "list2 = ['a','b','c','d','e'] #values\n",
    "res ={}\n",
    "\n",
    "for key in list1:\n",
    "    for value in list2:\n",
    "        res[key] = value\n",
    "        list2.remove(value)\n",
    "        break\n",
    "res"
   ]
  },
  {
   "cell_type": "code",
   "execution_count": 123,
   "metadata": {},
   "outputs": [
    {
     "data": {
      "text/plain": [
       "{1: 'a', 2: 'b', 3: 'c', 4: 'd', 5: 'e'}"
      ]
     },
     "execution_count": 123,
     "metadata": {},
     "output_type": "execute_result"
    }
   ],
   "source": [
    "list1 = [1,2,3,4,5,6,7] #keys \n",
    "list2 = ['a','b','c','d','e',] #values\n",
    "res ={}\n",
    "\n",
    "res = dict(zip(list1,list2))\n",
    "res"
   ]
  },
  {
   "cell_type": "markdown",
   "metadata": {},
   "source": [
    "### 14. *Functions*"
   ]
  },
  {
   "cell_type": "markdown",
   "metadata": {},
   "source": [
    "1. A function is a block of code which only runs when it is called.\n",
    "2. You can pass data, known as paramenters, into a functions, \n",
    "3. Functions can return data as a result. \n",
    "4. In python, a function is defined using the def keyword."
   ]
  },
  {
   "cell_type": "code",
   "execution_count": 81,
   "metadata": {},
   "outputs": [
    {
     "name": "stdout",
     "output_type": "stream",
     "text": [
      "We are learning with Data Science\n",
      "We are learning with Data Science\n",
      "We are learning with Data Science\n"
     ]
    }
   ],
   "source": [
    "# defining a functions\n",
    "\n",
    "def print_codanics():\n",
    "     print(\"We are learning with Data Science\")\n",
    "     print(\"We are learning with Data Science\")\n",
    "     print(\"We are learning with Data Science\")\n",
    "\n",
    "print_codanics()"
   ]
  },
  {
   "cell_type": "code",
   "execution_count": 82,
   "metadata": {},
   "outputs": [
    {
     "name": "stdout",
     "output_type": "stream",
     "text": [
      "We are learning with Aammar\n",
      "We are learning with Aammar\n",
      "We are learning with Aammar\n"
     ]
    }
   ],
   "source": [
    "def print_codanics():\n",
    "     text = \"We are learning with Aammar\"\n",
    "     print(text)\n",
    "     print(text)\n",
    "     print(text)\n",
    "print_codanics()"
   ]
  },
  {
   "cell_type": "code",
   "execution_count": 83,
   "metadata": {},
   "outputs": [
    {
     "name": "stdout",
     "output_type": "stream",
     "text": [
      "We are learning python with Aammar in codanics youtube channel\n",
      "We are learning python with Aammar in codanics youtube channel\n",
      "We are learning python with Aammar in codanics youtube channel\n"
     ]
    }
   ],
   "source": [
    "def print_codanics(text):\n",
    "     print(text)\n",
    "     print(text)\n",
    "     print(text)\n",
    "\n",
    "print_codanics(\"We are learning python with Aammar in codanics youtube channel\")\n"
   ]
  },
  {
   "cell_type": "code",
   "execution_count": 86,
   "metadata": {},
   "outputs": [
    {
     "name": "stdout",
     "output_type": "stream",
     "text": [
      "Hammad should go to higher school\n"
     ]
    }
   ],
   "source": [
    "# defining a function with if, elif and else statements\n",
    "\n",
    "def school_calculator(age):\n",
    "     if age == 5:\n",
    "         print(\"Hammad can join the school\")\n",
    "     elif age >5:\n",
    "         print(\"Hammad should go to higher school\")\n",
    "     else:\n",
    "         print(\"Hammad is still a baby\")\n",
    "\n",
    "school_calculator(10)\n"
   ]
  },
  {
   "cell_type": "code",
   "execution_count": 87,
   "metadata": {},
   "outputs": [
    {
     "name": "stdout",
     "output_type": "stream",
     "text": [
      "30\n"
     ]
    }
   ],
   "source": [
    "# defining a function of future \n",
    "\n",
    "def future_age(age):\n",
    "     new_age=age+20\n",
    "     return new_age\n",
    "     print(new_age)\n",
    "\n",
    "future_predicted_age= future_age(10)\n",
    "print(future_predicted_age)"
   ]
  },
  {
   "cell_type": "code",
   "execution_count": 107,
   "metadata": {},
   "outputs": [
    {
     "name": "stdout",
     "output_type": "stream",
     "text": [
      "Hello User!\n",
      "Assalam o Alikum, All the way from London\n",
      "Assalam O Alaikum ali\n",
      "Assalam O Alaikum Khuda kay Banday\n",
      "81\n",
      "720\n",
      "0.5\n",
      "16\n"
     ]
    }
   ],
   "source": [
    "def greet_user():\n",
    "     print(\"Hello User!\")\n",
    "greet_user()\n",
    "\n",
    "def aoa():\n",
    "     print(\"Assalam o Alikum, All the way from London\")\n",
    "aoa()\n",
    "\n",
    "def aoa(name):\n",
    "     print(f'Assalam O Alaikum ' + name )\n",
    "aoa('ali')\n",
    "\n",
    "def aoa(name = \"Khuda kay Banday\"):\n",
    "     print(f'Assalam O Alaikum ' + name )\n",
    "aoa()\n",
    "\n",
    "def square(number):\n",
    "     return number * number\n",
    "print(square(9))\n",
    "\n",
    "# Recursion Function\n",
    "def factorial(n):\n",
    "     if n ==1:\n",
    "         return 1\n",
    "     else:\n",
    "         return (factorial(n-1) * n)\n",
    "print(factorial(6))\n",
    "\n",
    "# lambda Function\n",
    "x = lambda a: a/10\n",
    "print(x(5))\n",
    "\n",
    "x = lambda a, b: a*b\n",
    "print(x(2,8))"
   ]
  },
  {
   "cell_type": "code",
   "execution_count": 108,
   "metadata": {},
   "outputs": [
    {
     "name": "stdout",
     "output_type": "stream",
     "text": [
      "2.0\n",
      "16\n"
     ]
    }
   ],
   "source": [
    "def x(a):\n",
    "    return a/2\n",
    "x = lambda a: a/2\n",
    "print(x(4))\n",
    "\n",
    "def x (a,b):\n",
    "    return a*b\n",
    "x = lambda a, b: a*b\n",
    "print(x(2,8))"
   ]
  },
  {
   "cell_type": "markdown",
   "metadata": {},
   "source": [
    "### 15. *Type Casting*"
   ]
  },
  {
   "cell_type": "code",
   "execution_count": 91,
   "metadata": {},
   "outputs": [
    {
     "name": "stdout",
     "output_type": "stream",
     "text": [
      "datatype of num_int: <class 'int'>\n",
      "datatype of num_float: <class 'float'>\n",
      "value of num_new: 124.23\n",
      "datatype of num_new: <class 'float'>\n"
     ]
    }
   ],
   "source": [
    "# What is Type Casting and how do we use that in python?\n",
    "num_int = 123\n",
    "num_float = 1.23\n",
    "num_new = num_int + num_float\n",
    "\n",
    "print(\"datatype of num_int:\" , type(num_int))\n",
    "print(\"datatype of num_float:\" , type(num_float))\n",
    "\n",
    "print(\"value of num_new:\" , num_new)\n",
    "print(\"datatype of num_new:\" , type(num_new))"
   ]
  },
  {
   "cell_type": "code",
   "execution_count": 95,
   "metadata": {},
   "outputs": [],
   "source": [
    "# Data Types \n",
    "# x = 5 # integer\n",
    "# y = 5.0 # float\n",
    "# z = 'Hello' #'string'\n",
    "# a = [1,'hello',True] #[list]\n",
    "# b =(1,\"hello\",True)#tuple\n",
    "# c = {'Ahmed':5.0, 'Shaw':5.2, 'Hammad':5.3} # Dictionary First Key and second is value\n",
    "# d = {1,2,3} #set"
   ]
  },
  {
   "cell_type": "markdown",
   "metadata": {},
   "source": [
    "### 16. *Boolean Operator / Binary Data*\n",
    "In programming, boolean operators are used to perform logical operations on variables or expressions and return a result of `true` or `false`."
   ]
  },
  {
   "cell_type": "code",
   "execution_count": 97,
   "metadata": {},
   "outputs": [
    {
     "name": "stdout",
     "output_type": "stream",
     "text": [
      "['Apple', 'Mango', 'Banana', 'Pine apple']\n",
      "['Apple', 'Mango', 'Banana', 'Pine apple', 'Blue Barrey']\n",
      "0 Apple\n",
      "1 Mango\n",
      "2 Banana\n",
      "3 Pine apple\n",
      "4 Blue Barrey\n"
     ]
    }
   ],
   "source": [
    "# Set\n",
    "fruit = ['Apple', 'Mango', 'Banana', 'Pine apple']\n",
    "print(fruit)\n",
    "fruit.append('Blue Barrey')\n",
    "print(fruit)\n",
    "for x in range(len(fruit)):\n",
    "    print(x, fruit[x])"
   ]
  },
  {
   "cell_type": "markdown",
   "metadata": {},
   "source": [
    "### 17. *Errors*"
   ]
  },
  {
   "cell_type": "code",
   "execution_count": 112,
   "metadata": {},
   "outputs": [
    {
     "name": "stdout",
     "output_type": "stream",
     "text": [
      "x is a positive value\n",
      "y is a positive value\n"
     ]
    }
   ],
   "source": [
    "# Syntax Error - When you write code that is not valid Python. This means there are one of two things wrong with your program; either it's\n",
    "x=5\n",
    "if x >3:\n",
    "    print(\"x is a positive value\")\n",
    "\n",
    "# logical or human error\n",
    "if x >3:\n",
    "     print(\"y is a positive value\")"
   ]
  },
  {
   "cell_type": "markdown",
   "metadata": {},
   "source": [
    "1. Runtime or Module not Found Error:\n",
    "    1. name error\n",
    "    2. Type Error\n",
    "    3. Value Error\n",
    "    4. Index Error\n",
    "    5. Key Error\n",
    "    6. Attribute Error\n",
    "    7. Zero Division Error (1/0)\n",
    "    8. File not Found Error\n",
    "    9. Import Error\n",
    "    10. Memory Error\n",
    "    11. Timeout Error"
   ]
  },
  {
   "cell_type": "markdown",
   "metadata": {},
   "source": [
    "### 18. *Libraries*"
   ]
  },
  {
   "cell_type": "code",
   "execution_count": 113,
   "metadata": {},
   "outputs": [],
   "source": [
    "# Import_Libaries\n",
    "# if you want to print the value of pi \n",
    "\n",
    "# import math\n",
    "# print(\"the value of pi is\", math.pi)\n",
    "\n",
    "# import statistics\n",
    "# x= [150,250,350,450]\n",
    "# print(statistics.mean(x))\n",
    "\n",
    "# numpy, pnadas, \n",
    "# if you want to print the value of pi \n",
    "\n",
    "# TroubleShooting \n",
    "# print(We are learning python with Aammar) #syntax error\n",
    "\n",
    "# print(25/0) #runtime error"
   ]
  },
  {
   "cell_type": "markdown",
   "metadata": {},
   "source": [
    "1. Dataframe is made up of columns/rows/index/variables\n",
    "2. There are two types of data \n",
    "   1) Primary data \n",
    "   2) Secondary data \n",
    "3. Websites link where you find the data \n",
    "    1. kaggle.com \n",
    "    2. google data ssearch \n",
    "    3. Github.com \n",
    "    4. faostats.com \n",
    "    5. websites-wikipedia-twitter (sentiment analysis)-scarping from websites\n",
    "    6. Stats \n",
    "    7. Nadra \n",
    "    8. crime detection-DNA (forsenics) \n",
    "    9. Business Analtics (dollar stock exchange) \n",
    "    10. Uni database \n",
    "4. Research Paper- publish-Data analysis- publish"
   ]
  },
  {
   "cell_type": "code",
   "execution_count": 106,
   "metadata": {},
   "outputs": [],
   "source": [
    "# import numpy as np\n",
    "\n",
    "# def calculate(matrix):\n",
    "#   \"\"\"Calculates the mean, variance, standard deviation, max, min, and sum of the rows, columns, and elements in a 3 x 3 matrix.\"\"\"\n",
    "\n",
    "# Convert the matrix to a Numpy array\n",
    "#   array = np.array(matrix)\n",
    "\n",
    "# Calculate the mean, variance, standard deviation, max, min, and sum of the rows\n",
    "#   mean_row = np.mean(array, axis=1)\n",
    "#   var_row = np.var(array, axis=1)\n",
    "#   std_row = np.std(array, axis=1)\n",
    "#   max_row = np.max(array, axis=1)\n",
    "#   min_row = np.min(array, axis=1)\n",
    "#   sum_row = np.sum(array, axis=1)\n",
    "\n",
    "# Calculate the mean, variance, standard deviation, max, min, and sum of the columns\n",
    "#   mean_col = np.mean(array, axis=0)\n",
    "#   var_col = np.var(array, axis=0)\n",
    "#   std_col = np.std(array, axis=0)\n",
    "#   max_col = np.max(array, axis=0)\n",
    "#   min_col = np.min(array, axis=0)\n",
    "#   sum_col = np.sum(array, axis=0)\n",
    "\n",
    "#  Calculate the mean, variance, standard deviation, max, min, and sum of the elements\n",
    "#   mean_flat = np.mean(array)\n",
    "#   var_flat = np.var(array)\n",
    "#   std_flat = np.std(array)\n",
    "#   max_flat = np.max(array)\n",
    "#   min_flat = np.min(array)\n",
    "#   sum_flat = np.sum(array)\n",
    "\n",
    "#  Return the results\n",
    "#   return {\n",
    "#     \"mean_row\": mean_row,\n",
    "#     \"var_row\": var_row,\n",
    "#     \"std_row\": std_row,\n",
    "#     \"max_row\": max_row,\n",
    "#     \"min_row\": min_row,\n",
    "#     \"sum_row\": sum_row,\n",
    "#     \"mean_col\": mean_col,\n",
    "#     \"var_col\": var_col,\n",
    "#     \"std_col\": std_col,\n",
    "#     \"max_col\": max_col,\n",
    "#     \"min_col\": min_col,\n",
    "#     \"sum_col\": sum_col,\n",
    "#     \"mean_flat\": mean_flat,\n",
    "#     \"var_flat\": var_flat,\n",
    "#     \"std_flat\": std_flat,\n",
    "#     \"max_flat\": max_flat,\n",
    "#     \"min_flat\": min_flat,\n",
    "#     \"sum_flat\": sum_flat,\n",
    "#   }"
   ]
  },
  {
   "cell_type": "code",
   "execution_count": 114,
   "metadata": {},
   "outputs": [
    {
     "name": "stdout",
     "output_type": "stream",
     "text": [
      "Python version\n",
      "3.11.4 (tags/v3.11.4:d2340ef, Jun  7 2023, 05:45:37) [MSC v.1934 64 bit (AMD64)]\n",
      "Version info.\n",
      "sys.version_info(major=3, minor=11, micro=4, releaselevel='final', serial=0)\n"
     ]
    }
   ],
   "source": [
    "import sys\n",
    "print(\"Python version\")\n",
    "print (sys.version)\n",
    "print(\"Version info.\")\n",
    "print (sys.version_info)"
   ]
  },
  {
   "cell_type": "code",
   "execution_count": 115,
   "metadata": {},
   "outputs": [
    {
     "name": "stdout",
     "output_type": "stream",
     "text": [
      "Current date and time: \n",
      "2023-10-28 15:49:58.326262\n"
     ]
    }
   ],
   "source": [
    "import datetime\n",
    "now = datetime.datetime.now()\n",
    "print(\"Current date and time: \")\n",
    "print(str(now))"
   ]
  },
  {
   "cell_type": "code",
   "execution_count": 116,
   "metadata": {},
   "outputs": [
    {
     "name": "stdout",
     "output_type": "stream",
     "text": [
      "The area of the circle with radius 3.5 is: 38.48451000647496\n"
     ]
    }
   ],
   "source": [
    "from math import pi\n",
    "r = float(input (\"Input the radius of the circle : \"))\n",
    "print (\"The area of the circle with radius \" + str(r) + \" is: \" + str(pi * r**2))"
   ]
  }
 ],
 "metadata": {
  "kernelspec": {
   "display_name": "Python 3",
   "language": "python",
   "name": "python3"
  },
  "language_info": {
   "codemirror_mode": {
    "name": "ipython",
    "version": 3
   },
   "file_extension": ".py",
   "mimetype": "text/x-python",
   "name": "python",
   "nbconvert_exporter": "python",
   "pygments_lexer": "ipython3",
   "version": "3.11.4"
  }
 },
 "nbformat": 4,
 "nbformat_minor": 2
}
